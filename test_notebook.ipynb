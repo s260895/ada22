{
 "cells": [
  {
   "cell_type": "code",
   "execution_count": 3,
   "metadata": {},
   "outputs": [],
   "source": [
    "from datetime import datetime\n",
    "import pandas\n",
    "import ccxt\n",
    "import pickle\n",
    "\n",
    "def price_fetcher(event,context):\n",
    "    '''\n",
    "        Stateless Function to fetch latest price data of all stocks\n",
    "        Event/Trigger: Cloud Scheduler\n",
    "\n",
    "    '''\n",
    "\n",
    "\n",
    "    '''\n",
    "        Stock List to be fetched from GET /stocks\n",
    "    '''\n",
    "    stock_list=['BTCUSDT','ETHUSDT','BNBUSDT']\n",
    "\n",
    "\n",
    "    '''Hard Coded Parameters: \n",
    "            Number of Candles, \n",
    "            Interval, \n",
    "            User ID/Pwd, \n",
    "            Whether to Fetch the Last Price \n",
    "    '''\n",
    "    candles = 50\n",
    "    interval = '1h'\n",
    "    exchange= ccxt.binance({\n",
    "                        'apiKey': 'INH9JYsd4Cu3kMPoONiCVHP3KlACsg3F4ehDN1cburoKohsARMpZGcq4PnQoqzyF',\n",
    "                        'secret': 'FSVMXANswsGOj3B4Oi4NSDOlX5fsvWOJ3s56DQsWvJTjLhSuPyq1aFLbFEWoOrMt',\n",
    "                        'enableRateLimit': True, \n",
    "                        'options': {'defaultType': 'future'},\n",
    "                        'hedgeMode':True\n",
    "                        })\n",
    "    last_incomplete_candle = False\n",
    "\n",
    "\n",
    "    '''\n",
    "        For Each Stock: Store the fetched Price Values and Datetimes as a Pandas Dataframe \n",
    "    '''\n",
    "    df_dict = dict()\n",
    "    for symbol in stock_list:    \n",
    "        if last_incomplete_candle == False:\n",
    "            closes = [[datetime.utcfromtimestamp(float(elem[0]) / 1000.),elem[4]] \n",
    "            for elem in exchange.fapiPublic_get_klines({'symbol':symbol,'interval':interval})][-candles:-1]\n",
    "        if last_incomplete_candle == True:\n",
    "            closes = [[datetime.utcfromtimestamp(float(elem[0]) / 1000.),elem[4]] \n",
    "            for elem in exchange.fapiPublic_get_klines({'symbol':symbol,'interval':interval})][-(candles-1):]\n",
    "        dates = [elem[0] for elem in closes]\n",
    "        values = [float(elem[1]) for elem in closes]\n",
    "        df = pandas.DataFrame([(elem[0],elem[1]) for elem in zip(dates,values)],columns=['datetime','closes'])\n",
    "        df_dict[symbol]=df\n",
    "    \n",
    "\n",
    "    '''\n",
    "    update through PUT /stocks/<stock_id>\n",
    "    '''\n",
    "    return df_dict\n",
    "    "
   ]
  },
  {
   "cell_type": "code",
   "execution_count": 4,
   "metadata": {},
   "outputs": [],
   "source": [
    "store_dict = price_fetcher(None,None)"
   ]
  },
  {
   "cell_type": "code",
   "execution_count": 6,
   "metadata": {},
   "outputs": [],
   "source": [
    "with open('sample_output.pkl', 'wb') as f:\n",
    "    pickle.dump(store_dict, f)\n",
    "        \n",
    "with open('sample_output.pkl', 'rb') as f:\n",
    "    loaded_dict = pickle.load(f)\n"
   ]
  },
  {
   "cell_type": "code",
   "execution_count": null,
   "metadata": {},
   "outputs": [],
   "source": []
  }
 ],
 "metadata": {
  "interpreter": {
   "hash": "916dbcbb3f70747c44a77c7bcd40155683ae19c65e1c03b4aa3499c5328201f1"
  },
  "kernelspec": {
   "display_name": "Python 3.8.10 64-bit",
   "language": "python",
   "name": "python3"
  },
  "language_info": {
   "codemirror_mode": {
    "name": "ipython",
    "version": 3
   },
   "file_extension": ".py",
   "mimetype": "text/x-python",
   "name": "python",
   "nbconvert_exporter": "python",
   "pygments_lexer": "ipython3",
   "version": "3.8.10"
  },
  "orig_nbformat": 4
 },
 "nbformat": 4,
 "nbformat_minor": 2
}
